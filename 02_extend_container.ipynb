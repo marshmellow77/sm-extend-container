{
 "cells": [
  {
   "cell_type": "markdown",
   "id": "838cc6db",
   "metadata": {},
   "source": [
    "# Proposed solution\n",
    "\n",
    "In this repo we propose to ***extend*** the existing Hugging Face DLCs by pulling them from the public ECR and running a simple Dockerfile on top of them that will install the latest available version of `transformers`.\n",
    "\n",
    "Note that in this notebook we only extend the Inference container, but the same also works for the [Training DLCs](https://github.com/aws/deep-learning-containers/blob/master/available_images.md#huggingface-training-containers)."
   ]
  },
  {
   "cell_type": "markdown",
   "id": "49105cc8",
   "metadata": {},
   "source": [
    "## Writing Dockerfile\n",
    "We wrtite the docker file. First we pull the existing DLC (which can be found [here](https://github.com/aws/deep-learning-containers/blob/master/available_images.md#huggingface-inference-containers)) and then we add a `pip install` command to upgrade the `transformers` library."
   ]
  },
  {
   "cell_type": "code",
   "execution_count": 1,
   "id": "30a619ed",
   "metadata": {},
   "outputs": [
    {
     "name": "stdout",
     "output_type": "stream",
     "text": [
      "Writing Dockerfile\n"
     ]
    }
   ],
   "source": [
    "%%writefile Dockerfile\n",
    "FROM 763104351884.dkr.ecr.us-east-1.amazonaws.com/huggingface-pytorch-inference:1.10.2-transformers4.17.0-gpu-py38-cu113-ubuntu20.04\n",
    "RUN pip install --upgrade 'transformers==4.24.0'"
   ]
  },
  {
   "cell_type": "markdown",
   "id": "4d91b2f7",
   "metadata": {},
   "source": [
    "We change into the directory where the Docker file is"
   ]
  },
  {
   "cell_type": "code",
   "execution_count": 3,
   "id": "643b6e99",
   "metadata": {},
   "outputs": [
    {
     "name": "stdout",
     "output_type": "stream",
     "text": [
      "/home/ec2-user/SageMaker/sm-extend-container\n"
     ]
    }
   ],
   "source": [
    "%cd ~/SageMaker/sm-extend-container"
   ]
  },
  {
   "cell_type": "markdown",
   "id": "11ddeebd",
   "metadata": {},
   "source": [
    "This is an adaptation of the official [tutorial](https://docs.aws.amazon.com/sagemaker/latest/dg/prebuilt-containers-extend.html) of extending pre-built containers. It will create a container with a name that we can choose and pushes the container into the ECR in our own AWS account. \n",
    "\n",
    "**Make sure that the role you're using to run this script has the corresponding IAM priviliges to write to ECR.**"
   ]
  },
  {
   "cell_type": "code",
   "execution_count": null,
   "id": "8e53e903",
   "metadata": {
    "scrolled": true
   },
   "outputs": [],
   "source": [
    "%%sh\n",
    "\n",
    "# Specify an algorithm name\n",
    "algorithm_name=transformers-extended-container\n",
    "tag=\n",
    "\n",
    "account=$(aws sts get-caller-identity --query Account --output text)\n",
    "\n",
    "\n",
    "# Get the region defined in the current configuration (default to us-west-2 if none defined)\n",
    "region=$(aws configure get region)\n",
    "\n",
    "fullname=\"${account}.dkr.ecr.${region}.amazonaws.com/${algorithm_name}:latest\"\n",
    "\n",
    "# If the repository doesn't exist in ECR, create it.\n",
    "\n",
    "aws ecr describe-repositories --repository-names \"${algorithm_name}\" > /dev/null 2>&1\n",
    "if [ $? -ne 0 ]\n",
    "then\n",
    "aws ecr create-repository --repository-name \"${algorithm_name}\" > /dev/null\n",
    "fi\n",
    "\n",
    "# Log into Docker\n",
    "aws ecr get-login-password --region ${region}|docker login --username AWS --password-stdin ${fullname}\n",
    "\n",
    "# Build the docker image locally with the image name and then push it to ECR\n",
    "# with the full name.\n",
    "\n",
    "docker build -t ${algorithm_name} .\n",
    "docker tag ${algorithm_name} ${fullname}\n",
    "\n",
    "docker push ${fullname}"
   ]
  },
  {
   "cell_type": "code",
   "execution_count": null,
   "id": "90ef1653",
   "metadata": {},
   "outputs": [],
   "source": []
  }
 ],
 "metadata": {
  "kernelspec": {
   "display_name": "conda_python3",
   "language": "python",
   "name": "conda_python3"
  },
  "language_info": {
   "codemirror_mode": {
    "name": "ipython",
    "version": 3
   },
   "file_extension": ".py",
   "mimetype": "text/x-python",
   "name": "python",
   "nbconvert_exporter": "python",
   "pygments_lexer": "ipython3",
   "version": "3.8.12"
  }
 },
 "nbformat": 4,
 "nbformat_minor": 5
}
