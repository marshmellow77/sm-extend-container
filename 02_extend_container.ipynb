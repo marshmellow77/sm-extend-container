{
 "cells": [
  {
   "cell_type": "markdown",
   "id": "fbfeb44f",
   "metadata": {},
   "source": [
    "# Proposed solution\n",
    "\n",
    "In this repo we propose to ***extend*** the existing Hugging Face DLCs by pulling them from the public ECR and running a simple Dockerfile on top of them that will install the latest available version of `transformers`.\n",
    "\n",
    "Note that in this notebook we only extend the Inference container, but the same also works for the [Training DLCs](https://github.com/aws/deep-learning-containers/blob/master/available_images.md#huggingface-training-containers)."
   ]
  },
  {
   "cell_type": "markdown",
   "id": "750364f5",
   "metadata": {},
   "source": [
    "## Writing Dockerfile\n",
    "We wrtite the docker file. First we pull the existing DLC (which can be found [here](https://github.com/aws/deep-learning-containers/blob/master/available_images.md#huggingface-inference-containers)) and then we add a `pip install` command to upgrade the `transformers` library."
   ]
  },
  {
   "cell_type": "code",
   "execution_count": 1,
   "id": "8432815a",
   "metadata": {},
   "outputs": [
    {
     "name": "stdout",
     "output_type": "stream",
     "text": [
      "Writing Dockerfile\n"
     ]
    }
   ],
   "source": [
    "%%writefile Dockerfile\n",
    "FROM 763104351884.dkr.ecr.us-east-1.amazonaws.com/huggingface-pytorch-inference:1.10.2-transformers4.17.0-gpu-py38-cu113-ubuntu20.04\n",
    "RUN pip install --upgrade 'transformers==4.24.0'"
   ]
  },
  {
   "cell_type": "markdown",
   "id": "77baf424",
   "metadata": {},
   "source": [
    "We change into the directory where the Docker file is"
   ]
  },
  {
   "cell_type": "code",
   "execution_count": 3,
   "id": "4f05106d",
   "metadata": {},
   "outputs": [
    {
     "name": "stdout",
     "output_type": "stream",
     "text": [
      "/home/ec2-user/SageMaker/sm-extend-container\n"
     ]
    }
   ],
   "source": [
    "%cd ~/SageMaker/sm-extend-container"
   ]
  },
  {
   "cell_type": "markdown",
   "id": "043a2d38",
   "metadata": {},
   "source": [
    "This is an adaptation of the official [tutorial](https://docs.aws.amazon.com/sagemaker/latest/dg/prebuilt-containers-extend.html) of extending pre-built containers. It will create a container with a name that we can choose and pushes the container into the ECR in our own AWS account. \n",
    "\n",
    "**Make sure that the role you're using to run this script has the corresponding IAM priviliges to write to ECR.** To learn more about IAM for ECR head over to https://docs.aws.amazon.com/AmazonECR/latest/userguide/security-iam.html. This notebook was tested with AdministratorAccess priviliges attached to the SageMaker Execution role. "
   ]
  },
  {
   "cell_type": "code",
   "execution_count": null,
   "id": "10c51927",
   "metadata": {
    "scrolled": true
   },
   "outputs": [],
   "source": [
    "%%sh\n",
    "\n",
    "# Specify a name and a tag\n",
    "algorithm_name=huggingface-pytorch-inference-extended\n",
    "tag=1.10.2-transformers4.24.0-gpu-py38-cu113-ubuntu20.04\n",
    "\n",
    "account=$(aws sts get-caller-identity --query Account --output text)\n",
    "\n",
    "\n",
    "# Get the region defined in the current configuration (default to us-west-2 if none defined)\n",
    "region=$(aws configure get region)\n",
    "\n",
    "fullname=\"${account}.dkr.ecr.${region}.amazonaws.com/${algorithm_name}:${tag}\"\n",
    "\n",
    "# If the repository doesn't exist in ECR, create it.\n",
    "\n",
    "aws ecr describe-repositories --repository-names \"${algorithm_name}\" > /dev/null 2>&1\n",
    "if [ $? -ne 0 ]\n",
    "then\n",
    "aws ecr create-repository --repository-name \"${algorithm_name}\" > /dev/null\n",
    "fi\n",
    "\n",
    "# Log into Docker\n",
    "aws ecr get-login-password --region ${region}|docker login --username AWS --password-stdin ${fullname}\n",
    "\n",
    "# Build the docker image locally with the image name and then push it to ECR\n",
    "# with the full name.\n",
    "\n",
    "docker build -t ${algorithm_name} .\n",
    "docker tag ${algorithm_name} ${fullname}\n",
    "\n",
    "docker push ${fullname}"
   ]
  },
  {
   "cell_type": "code",
   "execution_count": null,
   "id": "86df6fba",
   "metadata": {},
   "outputs": [],
   "source": []
  }
 ],
 "metadata": {
  "kernelspec": {
   "display_name": "conda_python3",
   "language": "python",
   "name": "conda_python3"
  },
  "language_info": {
   "codemirror_mode": {
    "name": "ipython",
    "version": 3
   },
   "file_extension": ".py",
   "mimetype": "text/x-python",
   "name": "python",
   "nbconvert_exporter": "python",
   "pygments_lexer": "ipython3",
   "version": "3.8.12"
  }
 },
 "nbformat": 4,
 "nbformat_minor": 5
}
