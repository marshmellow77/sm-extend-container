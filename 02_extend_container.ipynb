{
 "cells": [
  {
   "cell_type": "code",
   "execution_count": 1,
   "id": "ea33e162",
   "metadata": {},
   "outputs": [
    {
     "name": "stdout",
     "output_type": "stream",
     "text": [
      "Writing Dockerfile\n"
     ]
    }
   ],
   "source": [
    "%%writefile Dockerfile\n",
    "FROM 763104351884.dkr.ecr.us-east-1.amazonaws.com/huggingface-pytorch-inference:1.10.2-transformers4.17.0-gpu-py38-cu113-ubuntu20.04\n",
    "RUN pip install --upgrade 'transformers==4.24.0'"
   ]
  },
  {
   "cell_type": "code",
   "execution_count": 3,
   "id": "2fc66b53",
   "metadata": {},
   "outputs": [
    {
     "name": "stdout",
     "output_type": "stream",
     "text": [
      "/home/ec2-user/SageMaker/sm-extend-container\n"
     ]
    }
   ],
   "source": [
    "%cd ~/SageMaker/sm-extend-container"
   ]
  },
  {
   "cell_type": "code",
   "execution_count": 6,
   "id": "91f0e146",
   "metadata": {
    "scrolled": true
   },
   "outputs": [
    {
     "name": "stdout",
     "output_type": "stream",
     "text": [
      "Login Succeeded\n",
      "Sending build context to Docker daemon  114.7kB\n",
      "Step 1/2 : FROM 763104351884.dkr.ecr.us-east-1.amazonaws.com/huggingface-pytorch-inference:1.10.2-transformers4.17.0-gpu-py38-cu113-ubuntu20.04\n",
      " ---> 27b277000343\n",
      "Step 2/2 : RUN pip install --upgrade 'transformers==4.24.0'\n",
      " ---> Using cache\n",
      " ---> d908d2ab5cab\n",
      "Successfully built d908d2ab5cab\n",
      "Successfully tagged transformers-extended-container:latest\n",
      "The push refers to repository [905847418383.dkr.ecr.us-east-1.amazonaws.com/transformers-extended-container]\n",
      "4be8f41987db: Preparing\n",
      "3ba6fe4b2b66: Preparing\n",
      "b0134fef65ae: Preparing\n",
      "1bfa98cef2c8: Preparing\n",
      "b8bcd343d9df: Preparing\n",
      "83e6952e8e57: Preparing\n",
      "721041a08a77: Preparing\n",
      "ca548dd9f6b6: Preparing\n",
      "ac0871e16dd1: Preparing\n",
      "981540c7bf62: Preparing\n",
      "57c2137bc54a: Preparing\n",
      "553f00fe9414: Preparing\n",
      "c290b09be722: Preparing\n",
      "2e36dd432e28: Preparing\n",
      "335dafe074cd: Preparing\n",
      "8480a7f24d40: Preparing\n",
      "ca548dd9f6b6: Waiting\n",
      "a688b15f64fd: Preparing\n",
      "83e6952e8e57: Waiting\n",
      "721041a08a77: Waiting\n",
      "542221373db2: Preparing\n",
      "ac0871e16dd1: Waiting\n",
      "9295157e90fd: Preparing\n",
      "0430d270e456: Preparing\n",
      "d2d399deceb2: Preparing\n",
      "e995384f1642: Preparing\n",
      "a688b15f64fd: Waiting\n",
      "e592fe6d10a9: Preparing\n",
      "f42691182163: Preparing\n",
      "57c2137bc54a: Waiting\n",
      "68016c5bb65c: Preparing\n",
      "8034550a3bbe: Preparing\n",
      "c290b09be722: Waiting\n",
      "553f00fe9414: Waiting\n",
      "bf8cedc62fb3: Preparing\n",
      "8480a7f24d40: Waiting\n",
      "335dafe074cd: Waiting\n",
      "8034550a3bbe: Waiting\n",
      "bf8cedc62fb3: Waiting\n",
      "e592fe6d10a9: Waiting\n",
      "9295157e90fd: Waiting\n",
      "3ba6fe4b2b66: Pushed\n",
      "83e6952e8e57: Pushed\n",
      "b0134fef65ae: Pushed\n",
      "721041a08a77: Pushed\n",
      "ca548dd9f6b6: Pushed\n",
      "ac0871e16dd1: Pushed\n",
      "981540c7bf62: Pushed\n",
      "57c2137bc54a: Pushed\n",
      "553f00fe9414: Pushed\n",
      "c290b09be722: Pushed\n",
      "4be8f41987db: Pushed\n",
      "8480a7f24d40: Pushed\n",
      "335dafe074cd: Pushed\n",
      "a688b15f64fd: Pushed\n",
      "542221373db2: Pushed\n",
      "2e36dd432e28: Pushed\n",
      "1bfa98cef2c8: Pushed\n",
      "e995384f1642: Pushed\n",
      "e592fe6d10a9: Pushed\n",
      "f42691182163: Pushed\n",
      "68016c5bb65c: Pushed\n",
      "8034550a3bbe: Pushed\n",
      "bf8cedc62fb3: Pushed\n",
      "0430d270e456: Pushed\n",
      "9295157e90fd: Pushed\n",
      "b8bcd343d9df: Pushed\n",
      "d2d399deceb2: Pushed\n",
      "latest: digest: sha256:1347405b17dfdf68ba1dac2457a5b3963e1e3df186ee7d8e898508ff154df606 size: 5990\n"
     ]
    },
    {
     "name": "stderr",
     "output_type": "stream",
     "text": [
      "WARNING! Your password will be stored unencrypted in /home/ec2-user/.docker/config.json.\n",
      "Configure a credential helper to remove this warning. See\n",
      "https://docs.docker.com/engine/reference/commandline/login/#credentials-store\n",
      "\n"
     ]
    }
   ],
   "source": [
    "%%sh\n",
    "\n",
    "# Specify an algorithm name\n",
    "algorithm_name=transformers-extended-container\n",
    "\n",
    "account=$(aws sts get-caller-identity --query Account --output text)\n",
    "\n",
    "# Get the region defined in the current configuration (default to us-west-2 if none defined)\n",
    "region=$(aws configure get region)\n",
    "\n",
    "fullname=\"${account}.dkr.ecr.${region}.amazonaws.com/${algorithm_name}:latest\"\n",
    "\n",
    "# If the repository doesn't exist in ECR, create it.\n",
    "\n",
    "aws ecr describe-repositories --repository-names \"${algorithm_name}\" > /dev/null 2>&1\n",
    "if [ $? -ne 0 ]\n",
    "then\n",
    "aws ecr create-repository --repository-name \"${algorithm_name}\" > /dev/null\n",
    "fi\n",
    "\n",
    "# Log into Docker\n",
    "aws ecr get-login-password --region ${region}|docker login --username AWS --password-stdin ${fullname}\n",
    "\n",
    "# Build the docker image locally with the image name and then push it to ECR\n",
    "# with the full name.\n",
    "\n",
    "docker build -t ${algorithm_name} .\n",
    "docker tag ${algorithm_name} ${fullname}\n",
    "\n",
    "docker push ${fullname}"
   ]
  },
  {
   "cell_type": "code",
   "execution_count": null,
   "id": "115c0dc7",
   "metadata": {},
   "outputs": [],
   "source": []
  }
 ],
 "metadata": {
  "kernelspec": {
   "display_name": "conda_python3",
   "language": "python",
   "name": "conda_python3"
  },
  "language_info": {
   "codemirror_mode": {
    "name": "ipython",
    "version": 3
   },
   "file_extension": ".py",
   "mimetype": "text/x-python",
   "name": "python",
   "nbconvert_exporter": "python",
   "pygments_lexer": "ipython3",
   "version": "3.8.12"
  }
 },
 "nbformat": 4,
 "nbformat_minor": 5
}
